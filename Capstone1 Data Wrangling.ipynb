{
 "cells": [
  {
   "cell_type": "code",
   "execution_count": 2,
   "metadata": {},
   "outputs": [],
   "source": [
    "import pandas as pd\n",
    "import numpy as np"
   ]
  },
  {
   "cell_type": "markdown",
   "metadata": {},
   "source": [
    "1, What is the best way to manage memory?\n",
    "2, Is merging to one big dataframe the best way to work?\n",
    "3, Noticing that there are significantly more tv related data rather than movies. In terms of the project, would it be better to keep this specific to movies?\n",
    "4, There are only 952239 different ratings available, would it be better to drop all other films without a rating?\n",
    "5, Which features should I keep and which should I remove?  Should I get rid of these during data import or after I've at least done some EDA?\n"
   ]
  },
  {
   "cell_type": "markdown",
   "metadata": {},
   "source": [
    "## Data import"
   ]
  },
  {
   "cell_type": "markdown",
   "metadata": {},
   "source": [
    "### title.basics.tsv"
   ]
  },
  {
   "cell_type": "code",
   "execution_count": 3,
   "metadata": {},
   "outputs": [
    {
     "name": "stderr",
     "output_type": "stream",
     "text": [
      "/Users/byungchankim/anaconda3/lib/python3.7/site-packages/IPython/core/interactiveshell.py:3020: DtypeWarning: Columns (5) have mixed types. Specify dtype option on import or set low_memory=False.\n",
      "  interactivity=interactivity, compiler=compiler, result=result)\n"
     ]
    }
   ],
   "source": [
    "#setting option to display full content rather than truncating at 50 characters\n",
    "pd.set_option('display.max_colwidth', -1)\n",
    "\n",
    "#Import the title.basics.tsv file without accounting for any null values to see how the data looks like\n",
    "bas = 'data/title.basics.tsv'\n",
    "df_b = pd.read_csv(bas,delimiter = '\\t')"
   ]
  },
  {
   "cell_type": "code",
   "execution_count": 4,
   "metadata": {},
   "outputs": [
    {
     "name": "stdout",
     "output_type": "stream",
     "text": [
      "            tconst  titleType               primaryTitle  \\\n",
      "6000318  tt9916848  tvEpisode  Episode #3.17               \n",
      "6000319  tt9916850  tvEpisode  Episode #3.19               \n",
      "6000320  tt9916852  tvEpisode  Episode #3.20               \n",
      "6000321  tt9916856  short      The Wind                    \n",
      "6000322  tt9916880  tvEpisode  Horrid Henry Knows It All   \n",
      "\n",
      "                     originalTitle  isAdult startYear endYear runtimeMinutes  \\\n",
      "6000318  Episode #3.17              0        2010      \\N      \\N              \n",
      "6000319  Episode #3.19              0        2010      \\N      \\N              \n",
      "6000320  Episode #3.20              0        2010      \\N      \\N              \n",
      "6000321  The Wind                   0        2015      \\N      27              \n",
      "6000322  Horrid Henry Knows It All  0        2014      \\N      \\N              \n",
      "\n",
      "                          genres  \n",
      "6000318  Action,Drama,Family      \n",
      "6000319  Action,Drama,Family      \n",
      "6000320  Action,Drama,Family      \n",
      "6000321  Short                    \n",
      "6000322  Animation,Comedy,Family  \n",
      "Index(['tconst', 'titleType', 'primaryTitle', 'originalTitle', 'isAdult',\n",
      "       'startYear', 'endYear', 'runtimeMinutes', 'genres'],\n",
      "      dtype='object')\n",
      "<class 'pandas.core.frame.DataFrame'>\n",
      "RangeIndex: 6000323 entries, 0 to 6000322\n",
      "Data columns (total 9 columns):\n",
      "tconst            object\n",
      "titleType         object\n",
      "primaryTitle      object\n",
      "originalTitle     object\n",
      "isAdult           int64\n",
      "startYear         object\n",
      "endYear           object\n",
      "runtimeMinutes    object\n",
      "genres            object\n",
      "dtypes: int64(1), object(8)\n",
      "memory usage: 412.0+ MB\n",
      "None\n",
      "(6000323, 9)\n"
     ]
    }
   ],
   "source": [
    "print(df_b.tail())\n",
    "#Around 6M records are present\n",
    "\n",
    "print(df_b.columns)\n",
    "#There are 9 columns in the file\n",
    "\n",
    "#.info() is not showing us the NaN counts, why?\n",
    "print(df_b.info())\n",
    "print(df_b.shape)\n",
    "\n"
   ]
  },
  {
   "cell_type": "code",
   "execution_count": 5,
   "metadata": {},
   "outputs": [
    {
     "name": "stdout",
     "output_type": "stream",
     "text": [
      "tconst            0\n",
      "titleType         0\n",
      "primaryTitle      7\n",
      "originalTitle     7\n",
      "isAdult           0\n",
      "startYear         0\n",
      "endYear           0\n",
      "runtimeMinutes    0\n",
      "genres            8\n",
      "dtype: int64\n",
      "1102467    NaN\n",
      "2545024    NaN\n",
      "3270214    NaN\n",
      "5020249    NaN\n",
      "5441686    NaN\n",
      "5955419    NaN\n",
      "5992291    NaN\n",
      "5996656    NaN\n",
      "Name: genres, dtype: object\n",
      "2199580    NaN\n",
      "2292206    NaN\n",
      "3459094    NaN\n",
      "4068855    NaN\n",
      "5317026    NaN\n",
      "5348809    NaN\n",
      "5956130    NaN\n",
      "Name: primaryTitle, dtype: object\n",
      "2199580    NaN\n",
      "2292206    NaN\n",
      "3459094    NaN\n",
      "4068855    NaN\n",
      "5317026    NaN\n",
      "5348809    NaN\n",
      "5956130    NaN\n",
      "Name: originalTitle, dtype: object\n"
     ]
    }
   ],
   "source": [
    "#counting the null values for each columns\n",
    "print(df_b.isna().sum())\n",
    "#We can see there are a few NaN values for primaryTitle, originalTitle, genres columns\n",
    "\n",
    "#locating each NaN values in those three columns above\n",
    "print(df_b['genres'].loc[df_b.isna()['genres']==True])\n",
    "print(df_b['primaryTitle'].loc[df_b.isna()['primaryTitle']==True])\n",
    "print(df_b['originalTitle'].loc[df_b.isna()['originalTitle']==True])"
   ]
  },
  {
   "cell_type": "markdown",
   "metadata": {},
   "source": [
    "We can see the NaN values for primaryTitle and originalTitle are the same.\n",
    "Also, in the actual dataframe, we see quite a few of '\\N' values.  \n",
    "\n",
    "According to the data documentation at https://www.imdb.com/interfaces/, 'A ‘\\N’ is used to denote that a particular field is missing or null for that title/name.'\n",
    "\n",
    "df_b = pd.read_csv(bas,delimiter = '\\t',na_values='\\\\N')\n",
    "\n",
    "This will be determined after we look at further datasets.\n"
   ]
  },
  {
   "cell_type": "code",
   "execution_count": 6,
   "metadata": {},
   "outputs": [
    {
     "name": "stdout",
     "output_type": "stream",
     "text": [
      "             tconst  titleType  \\\n",
      "1102467  tt10233364  tvEpisode   \n",
      "2545024  tt2347742   tvEpisode   \n",
      "3270214  tt3984412   tvEpisode   \n",
      "5020249  tt7841930   tvEpisode   \n",
      "5441686  tt8740950   tvEpisode   \n",
      "5955419  tt9822816   tvEpisode   \n",
      "5992291  tt9900062   tvEpisode   \n",
      "5996656  tt9909210   tvEpisode   \n",
      "\n",
      "                                                                                                                                                                   primaryTitle  \\\n",
      "1102467  Rolling in the Deep Dish\\tRolling in the Deep Dish                                                                                                                       \n",
      "2545024  No sufras por la alergia esta primavera\\tNo sufras por la alergia esta primavera                                                                                         \n",
      "3270214  I'm Not Going to Come Last, I'm Just Going to Die on The Amazing Race\\tI'm Not Going to Come Last, I'm Just Going to Die on The Amazing Race                             \n",
      "5020249  Stop and Hear the Cicadas/Cold-Blooded\\tStop and Hear the Cicadas/Cold-Blooded                                                                                           \n",
      "5441686  Weight Loss Resolution Restart - Ins & Outs of Menopause, PeriMenopause & Hormones\\tWeight Loss Resolution Restart - Ins & Outs of Menopause, PeriMenopause & Hormones   \n",
      "5955419  Zwischen Vertuschung und Aufklärung - Missbrauchsgipfel im Vatikan\\tZwischen Vertuschung und Aufklärung - Missbrauchsgipfel im Vatikan                                   \n",
      "5992291  The Direction of Yuu's Love: Hings Aren't Going As Planned\\tThe Direction of Yuu's Love: Hings Aren't Going As Planned                                                   \n",
      "5996656  Politik und/oder Moral - Wie weit geht das Vertrauen der Bürger?\\tPolitik und/oder Moral - Wie weit geht das Vertrauen der Bürger?                                       \n",
      "\n",
      "        originalTitle  isAdult startYear endYear          runtimeMinutes  \\\n",
      "1102467  0             2019     \\N        \\N      Reality-TV               \n",
      "2545024  0             2004     \\N        \\N      \\N                       \n",
      "3270214  0             2014     \\N        \\N      Reality-TV               \n",
      "5020249  0             2018     \\N        24      Animation,Family         \n",
      "5441686  0             2015     \\N        \\N      Reality-TV               \n",
      "5955419  0             2019     \\N        \\N      \\N                       \n",
      "5992291  0             1994     \\N        \\N      Animation,Comedy,Drama   \n",
      "5996656  0             2005     \\N        \\N      \\N                       \n",
      "\n",
      "        genres  \n",
      "1102467  NaN    \n",
      "2545024  NaN    \n",
      "3270214  NaN    \n",
      "5020249  NaN    \n",
      "5441686  NaN    \n",
      "5955419  NaN    \n",
      "5992291  NaN    \n",
      "5996656  NaN    \n"
     ]
    }
   ],
   "source": [
    "#unlike originalTitle or primaryTitle, genres column is very important for our analysis.\n",
    "#so we will look at the 8 records that genres column is NaN for and possibly drop them.\n",
    "print(df_b.loc[df_b['genres'].isna() == True])\n"
   ]
  },
  {
   "cell_type": "markdown",
   "metadata": {},
   "source": [
    "Here we see something does not add up.  isAdult column is showing year and runtimeMinutes column is showing data similar to genres.   Looking deeper into this, we can see the primaryTitle contains '\\t' that has not been interpreted as delimiter.  This would be a parsing issue rather than missing data.\n"
   ]
  },
  {
   "cell_type": "code",
   "execution_count": 7,
   "metadata": {},
   "outputs": [
    {
     "name": "stdout",
     "output_type": "stream",
     "text": [
      "Int64Index([1102467, 2545024, 3270214, 5020249, 5441686, 5955419, 5992291,\n",
      "            5996656],\n",
      "           dtype='int64')\n"
     ]
    }
   ],
   "source": [
    "#grabbing indexes for null genre records\n",
    "gen_ind = df_b.loc[df_b['genres'].isna()==True].index\n",
    "print(gen_ind)"
   ]
  },
  {
   "cell_type": "markdown",
   "metadata": {},
   "source": [
    "When checking the data file directly, we can see that the reason \\t wasn't considered as a delimiter was due to quotation mark.  \n",
    "For example, \"Rolling in the Deep Dish\t\"Rolling in the Deep Dish   \n",
    "Above was seen for primartyTitle and originalTitle columns for tconst, tt10233364 \n",
    "This is the case for the all the rest of the records.  Since writing an algorithm to revise, save to file and reimport as dataframe would take longer time than manual fix, I will make a copy of the file and manually remove those quotation marks.\n",
    "\n",
    "new file: title.basics_0.tsv\n",
    "\n"
   ]
  },
  {
   "cell_type": "code",
   "execution_count": 8,
   "metadata": {},
   "outputs": [],
   "source": [
    "bas0 = 'data/title.basics_0.tsv'\n",
    "df_b0 = pd.read_csv(bas0,delimiter = '\\t')"
   ]
  },
  {
   "cell_type": "code",
   "execution_count": 9,
   "metadata": {},
   "outputs": [
    {
     "name": "stdout",
     "output_type": "stream",
     "text": [
      "            tconst  titleType               primaryTitle  \\\n",
      "6000318  tt9916848  tvEpisode  Episode #3.17               \n",
      "6000319  tt9916850  tvEpisode  Episode #3.19               \n",
      "6000320  tt9916852  tvEpisode  Episode #3.20               \n",
      "6000321  tt9916856  short      The Wind                    \n",
      "6000322  tt9916880  tvEpisode  Horrid Henry Knows It All   \n",
      "\n",
      "                     originalTitle  isAdult startYear endYear runtimeMinutes  \\\n",
      "6000318  Episode #3.17              0        2010      \\N      \\N              \n",
      "6000319  Episode #3.19              0        2010      \\N      \\N              \n",
      "6000320  Episode #3.20              0        2010      \\N      \\N              \n",
      "6000321  The Wind                   0        2015      \\N      27              \n",
      "6000322  Horrid Henry Knows It All  0        2014      \\N      \\N              \n",
      "\n",
      "                          genres  \n",
      "6000318  Action,Drama,Family      \n",
      "6000319  Action,Drama,Family      \n",
      "6000320  Action,Drama,Family      \n",
      "6000321  Short                    \n",
      "6000322  Animation,Comedy,Family  \n",
      "Index(['tconst', 'titleType', 'primaryTitle', 'originalTitle', 'isAdult',\n",
      "       'startYear', 'endYear', 'runtimeMinutes', 'genres'],\n",
      "      dtype='object')\n",
      "<class 'pandas.core.frame.DataFrame'>\n",
      "RangeIndex: 6000323 entries, 0 to 6000322\n",
      "Data columns (total 9 columns):\n",
      "tconst            object\n",
      "titleType         object\n",
      "primaryTitle      object\n",
      "originalTitle     object\n",
      "isAdult           int64\n",
      "startYear         object\n",
      "endYear           object\n",
      "runtimeMinutes    object\n",
      "genres            object\n",
      "dtypes: int64(1), object(8)\n",
      "memory usage: 412.0+ MB\n",
      "None\n",
      "(6000323, 9)\n"
     ]
    }
   ],
   "source": [
    "print(df_b0.tail())\n",
    "#Around 6M records are present\n",
    "\n",
    "print(df_b0.columns)\n",
    "#There are 9 columns in the file\n",
    "\n",
    "#.info() is not showing us the NaN counts, why?\n",
    "print(df_b0.info())\n",
    "print(df_b0.shape)"
   ]
  },
  {
   "cell_type": "code",
   "execution_count": 10,
   "metadata": {},
   "outputs": [
    {
     "name": "stdout",
     "output_type": "stream",
     "text": [
      "tconst            0\n",
      "titleType         0\n",
      "primaryTitle      7\n",
      "originalTitle     7\n",
      "isAdult           0\n",
      "startYear         0\n",
      "endYear           0\n",
      "runtimeMinutes    0\n",
      "genres            0\n",
      "dtype: int64\n",
      "Series([], Name: genres, dtype: object)\n",
      "2199580    NaN\n",
      "2292206    NaN\n",
      "3459094    NaN\n",
      "4068855    NaN\n",
      "5317026    NaN\n",
      "5348809    NaN\n",
      "5956130    NaN\n",
      "Name: primaryTitle, dtype: object\n",
      "2199580    NaN\n",
      "2292206    NaN\n",
      "3459094    NaN\n",
      "4068855    NaN\n",
      "5317026    NaN\n",
      "5348809    NaN\n",
      "5956130    NaN\n",
      "Name: originalTitle, dtype: object\n"
     ]
    }
   ],
   "source": [
    "#counting the null values for each columns\n",
    "print(df_b0.isna().sum())\n",
    "#We can see there are a few NaN values for primaryTitle, originalTitle, genres columns\n",
    "\n",
    "#locating each NaN values in those three columns above\n",
    "print(df_b0['genres'].loc[df_b0.isna()['genres']==True])\n",
    "print(df_b0['primaryTitle'].loc[df_b0.isna()['primaryTitle']==True])\n",
    "print(df_b0['originalTitle'].loc[df_b0.isna()['originalTitle']==True])"
   ]
  },
  {
   "cell_type": "markdown",
   "metadata": {},
   "source": [
    "After the quotation fix, there are no NaN values for genres."
   ]
  },
  {
   "cell_type": "code",
   "execution_count": 11,
   "metadata": {},
   "outputs": [
    {
     "name": "stdout",
     "output_type": "stream",
     "text": [
      "            tconst  titleType primaryTitle originalTitle  isAdult startYear  \\\n",
      "2199580  tt1971246  tvEpisode  NaN          NaN           0        2011       \n",
      "2292206  tt2067043  tvEpisode  NaN          NaN           0        1965       \n",
      "3459094  tt4404732  tvEpisode  NaN          NaN           0        2015       \n",
      "4068855  tt5773048  tvEpisode  NaN          NaN           0        2015       \n",
      "5317026  tt8473688  tvEpisode  NaN          NaN           0        \\N         \n",
      "5348809  tt8541336  tvEpisode  NaN          NaN           0        2018       \n",
      "5956130  tt9824302  tvEpisode  NaN          NaN           0        2016       \n",
      "\n",
      "        endYear runtimeMinutes              genres  \n",
      "2199580  \\N      \\N             Biography           \n",
      "2292206  \\N      \\N             Music               \n",
      "3459094  \\N      \\N             Comedy              \n",
      "4068855  \\N      \\N             Talk-Show           \n",
      "5317026  \\N      \\N             Drama               \n",
      "5348809  \\N      \\N             Reality-TV,Romance  \n",
      "5956130  \\N      \\N             Documentary         \n"
     ]
    }
   ],
   "source": [
    "#list out the records where primaryTitle and originalTitle are Nan\n",
    "print(df_b0.loc[df_b0['primaryTitle'].isna()==True])\n",
    "\n",
    "#looks like these can be kept for now since there are no parsing error"
   ]
  },
  {
   "cell_type": "code",
   "execution_count": 12,
   "metadata": {},
   "outputs": [
    {
     "name": "stdout",
     "output_type": "stream",
     "text": [
      "tconst            0      \n",
      "titleType         0      \n",
      "primaryTitle      7      \n",
      "originalTitle     182    \n",
      "isAdult           0      \n",
      "startYear         336604 \n",
      "endYear           5949470\n",
      "runtimeMinutes    4206286\n",
      "genres            477616 \n",
      "dtype: int64\n"
     ]
    }
   ],
   "source": [
    "#Now that initial NaN was taken care of, we will reimport the file with '\\N' taken care of.\n",
    "df_b0 = pd.read_csv(bas0,delimiter = '\\t',na_values='\\\\N')\n",
    "\n",
    "#counting the null values for each columns\n",
    "print(df_b0.isna().sum())\n",
    "\n",
    "#Now there are quite a few null values present.  This is good enough for now. \n",
    "\n",
    "#delete df_b to release memory\n",
    "del df_b"
   ]
  },
  {
   "cell_type": "markdown",
   "metadata": {},
   "source": [
    "### title.crew.tsv"
   ]
  },
  {
   "cell_type": "markdown",
   "metadata": {},
   "source": [
    "Now we will look at the crew file."
   ]
  },
  {
   "cell_type": "code",
   "execution_count": 13,
   "metadata": {},
   "outputs": [
    {
     "name": "stdout",
     "output_type": "stream",
     "text": [
      "            tconst            directors                        writers\n",
      "6000318  tt9916848  nm5519454,nm5519375  nm6182221,nm1628284,nm2921377\n",
      "6000319  tt9916850  nm5519375,nm5519454  nm6182221,nm1628284,nm2921377\n",
      "6000320  tt9916852  nm5519375,nm5519454  nm6182221,nm1628284,nm2921377\n",
      "6000321  tt9916856  nm10538645           nm6951431                    \n",
      "6000322  tt9916880  nm0996406            nm1482639,nm2586970          \n",
      "Index(['tconst', 'directors', 'writers'], dtype='object')\n",
      "<class 'pandas.core.frame.DataFrame'>\n",
      "RangeIndex: 6000323 entries, 0 to 6000322\n",
      "Data columns (total 3 columns):\n",
      "tconst       object\n",
      "directors    object\n",
      "writers      object\n",
      "dtypes: object(3)\n",
      "memory usage: 137.3+ MB\n",
      "None\n",
      "(6000323, 3)\n",
      "tconst       0\n",
      "directors    0\n",
      "writers      0\n",
      "dtype: int64\n"
     ]
    }
   ],
   "source": [
    "df_crew = pd.read_csv('data/title.crew.tsv',delimiter='\\t')\n",
    "\n",
    "print(df_crew.tail())\n",
    "#Around 6M records are present\n",
    "\n",
    "print(df_crew.columns)\n",
    "#There are 3 columns in the file\n",
    "\n",
    "#.info() is not showing us the NaN counts, why?\n",
    "print(df_crew.info())\n",
    "print(df_crew.shape)\n",
    "\n",
    "#counting the null values for each columns\n",
    "print(df_crew.isna().sum())"
   ]
  },
  {
   "cell_type": "code",
   "execution_count": 14,
   "metadata": {},
   "outputs": [],
   "source": [
    "#delete df_crew to release memory\n",
    "del df_crew"
   ]
  },
  {
   "cell_type": "code",
   "execution_count": 15,
   "metadata": {},
   "outputs": [
    {
     "name": "stdout",
     "output_type": "stream",
     "text": [
      "tconst       0      \n",
      "directors    2499232\n",
      "writers      2940441\n",
      "dtype: int64\n",
      "        tconst directors writers\n",
      "37   tt0000039  NaN       NaN   \n",
      "102  tt0000104  NaN       NaN   \n",
      "123  tt0000125  NaN       NaN   \n",
      "132  tt0000134  NaN       NaN   \n",
      "160  tt0000162  NaN       NaN   \n"
     ]
    }
   ],
   "source": [
    "#no NaN found during initial parsing.  Now we will import again to account for '\\N'\n",
    "df_crew0 = pd.read_csv('data/title.crew.tsv',delimiter='\\t',na_values='\\\\N')\n",
    "\n",
    "#counting the null values for each columns\n",
    "print(df_crew0.isna().sum())\n",
    "\n",
    "#example of what they look like\n",
    "print(df_crew0.loc[df_crew0['directors'].isna()==True].head())"
   ]
  },
  {
   "cell_type": "markdown",
   "metadata": {},
   "source": [
    "### title.principals.tsv"
   ]
  },
  {
   "cell_type": "code",
   "execution_count": 16,
   "metadata": {},
   "outputs": [
    {
     "name": "stdout",
     "output_type": "stream",
     "text": [
      "             tconst  ordering     nconst  category                 job  \\\n",
      "34602926  tt9916880  5         nm0996406  director  principal director   \n",
      "34602927  tt9916880  6         nm1482639  writer    \\N                   \n",
      "34602928  tt9916880  7         nm2586970  writer    books                \n",
      "34602929  tt9916880  8         nm1594058  producer  producer             \n",
      "34602930  tt9916880  9         nm2676923  actress   \\N                   \n",
      "\n",
      "                                                    characters  \n",
      "34602926  \\N                                                    \n",
      "34602927  \\N                                                    \n",
      "34602928  \\N                                                    \n",
      "34602929  \\N                                                    \n",
      "34602930  [\"Sour Susan\",\"Goody-Goody Gordon\",\"Singing Soraya\"]  \n",
      "Index(['tconst', 'ordering', 'nconst', 'category', 'job', 'characters'], dtype='object')\n",
      "<class 'pandas.core.frame.DataFrame'>\n",
      "RangeIndex: 34602931 entries, 0 to 34602930\n",
      "Data columns (total 6 columns):\n",
      "tconst        object\n",
      "ordering      int64\n",
      "nconst        object\n",
      "category      object\n",
      "job           object\n",
      "characters    object\n",
      "dtypes: int64(1), object(5)\n",
      "memory usage: 1.5+ GB\n",
      "None\n",
      "(34602931, 6)\n",
      "tconst        0\n",
      "ordering      0\n",
      "nconst        0\n",
      "category      0\n",
      "job           0\n",
      "characters    0\n",
      "dtype: int64\n"
     ]
    }
   ],
   "source": [
    "df_pr = pd.read_csv('data/title.principals.tsv',delimiter='\\t')\n",
    "\n",
    "print(df_pr.tail())\n",
    "#Around 34M records are present\n",
    "\n",
    "print(df_pr.columns)\n",
    "#There are 6 columns in the file\n",
    "\n",
    "#.info() is not showing us the NaN counts, why?\n",
    "print(df_pr.info())\n",
    "print(df_pr.shape)\n",
    "\n",
    "#counting the null values for each columns\n",
    "print(df_pr.isna().sum())"
   ]
  },
  {
   "cell_type": "code",
   "execution_count": 17,
   "metadata": {},
   "outputs": [],
   "source": [
    "#delete df_pr to release memory\n",
    "del df_pr"
   ]
  },
  {
   "cell_type": "code",
   "execution_count": 18,
   "metadata": {},
   "outputs": [
    {
     "name": "stdout",
     "output_type": "stream",
     "text": [
      "tconst        0       \n",
      "ordering      0       \n",
      "nconst        0       \n",
      "category      0       \n",
      "job           28879352\n",
      "characters    16950162\n",
      "dtype: int64\n",
      "      tconst  ordering     nconst  category  job   characters\n",
      "0  tt0000001  1         nm1588970  self      NaN  [\"Herself\"]\n",
      "1  tt0000001  2         nm0005690  director  NaN  NaN        \n",
      "3  tt0000002  1         nm0721526  director  NaN  NaN        \n",
      "4  tt0000002  2         nm1335271  composer  NaN  NaN        \n",
      "5  tt0000003  1         nm0721526  director  NaN  NaN        \n"
     ]
    }
   ],
   "source": [
    "#no NaN found during initial parsing.  Now we will import again to account for '\\N'\n",
    "df_pr0 = pd.read_csv('data/title.principals.tsv',delimiter='\\t',na_values='\\\\N')\n",
    "\n",
    "#counting the null values for each columns\n",
    "print(df_pr0.isna().sum())\n",
    "\n",
    "#example of what they look like\n",
    "print(df_pr0.loc[df_pr0['job'].isna()==True].head())"
   ]
  },
  {
   "cell_type": "markdown",
   "metadata": {},
   "source": [
    "### title.ratings.tsv"
   ]
  },
  {
   "cell_type": "code",
   "execution_count": 19,
   "metadata": {},
   "outputs": [
    {
     "name": "stdout",
     "output_type": "stream",
     "text": [
      "           tconst  averageRating  numVotes\n",
      "952234  tt9916576  6.4            5       \n",
      "952235  tt9916578  9.0            10      \n",
      "952236  tt9916720  4.3            21      \n",
      "952237  tt9916766  7.0            8       \n",
      "952238  tt9916778  9.2            6       \n",
      "Index(['tconst', 'averageRating', 'numVotes'], dtype='object')\n",
      "<class 'pandas.core.frame.DataFrame'>\n",
      "RangeIndex: 952239 entries, 0 to 952238\n",
      "Data columns (total 3 columns):\n",
      "tconst           952239 non-null object\n",
      "averageRating    952239 non-null float64\n",
      "numVotes         952239 non-null int64\n",
      "dtypes: float64(1), int64(1), object(1)\n",
      "memory usage: 21.8+ MB\n",
      "None\n",
      "(952239, 3)\n",
      "tconst           0\n",
      "averageRating    0\n",
      "numVotes         0\n",
      "dtype: int64\n"
     ]
    }
   ],
   "source": [
    "df_rate = pd.read_csv('data/title.ratings.tsv',delimiter='\\t')\n",
    "\n",
    "print(df_rate.tail())\n",
    "#Around 1M records are present\n",
    "\n",
    "print(df_rate.columns)\n",
    "#There are 3 columns in the file\n",
    "\n",
    "#.info() is showing us the NaN counts, why?\n",
    "print(df_rate.info())\n",
    "print(df_rate.shape)\n",
    "\n",
    "#counting the null values for each columns\n",
    "print(df_rate.isna().sum())"
   ]
  },
  {
   "cell_type": "code",
   "execution_count": 20,
   "metadata": {},
   "outputs": [
    {
     "name": "stdout",
     "output_type": "stream",
     "text": [
      "tconst           0\n",
      "averageRating    0\n",
      "numVotes         0\n",
      "dtype: int64\n"
     ]
    }
   ],
   "source": [
    "#no NaN found during initial parsing.  Now we will import again to account for '\\N'\n",
    "df_rate0 = pd.read_csv('data/title.ratings.tsv',delimiter='\\t',na_values='\\\\N')\n",
    "\n",
    "#counting the null values for each columns\n",
    "print(df_rate0.isna().sum())\n",
    "\n",
    "#even after accounting for \\N values, there are no NaN"
   ]
  },
  {
   "cell_type": "markdown",
   "metadata": {},
   "source": [
    "### name.basics.tsv"
   ]
  },
  {
   "cell_type": "code",
   "execution_count": 21,
   "metadata": {},
   "outputs": [
    {
     "name": "stdout",
     "output_type": "stream",
     "text": [
      "            nconst         primaryName birthYear deathYear primaryProfession  \\\n",
      "9444334  nm9993715  Stephen Crowe       \\N        \\N        art_director       \n",
      "9444335  nm9993716  Essias Loberg       \\N        \\N        NaN                \n",
      "9444336  nm9993717  Harikrishnan Rajan  \\N        \\N        cinematographer    \n",
      "9444337  nm9993718  Aayush Nair         \\N        \\N        cinematographer    \n",
      "9444338  nm9993719  Andre Hill          \\N        \\N        NaN                \n",
      "\n",
      "        knownForTitles  \n",
      "9444334  tt2455546      \n",
      "9444335  \\N             \n",
      "9444336  tt8736744      \n",
      "9444337  \\N             \n",
      "9444338  \\N             \n",
      "Index(['nconst', 'primaryName', 'birthYear', 'deathYear', 'primaryProfession',\n",
      "       'knownForTitles'],\n",
      "      dtype='object')\n",
      "<class 'pandas.core.frame.DataFrame'>\n",
      "RangeIndex: 9444339 entries, 0 to 9444338\n",
      "Data columns (total 6 columns):\n",
      "nconst               object\n",
      "primaryName          object\n",
      "birthYear            object\n",
      "deathYear            object\n",
      "primaryProfession    object\n",
      "knownForTitles       object\n",
      "dtypes: object(6)\n",
      "memory usage: 432.3+ MB\n",
      "None\n",
      "(9444339, 6)\n",
      "nconst               0      \n",
      "primaryName          0      \n",
      "birthYear            0      \n",
      "deathYear            0      \n",
      "primaryProfession    1779417\n",
      "knownForTitles       0      \n",
      "dtype: int64\n"
     ]
    }
   ],
   "source": [
    "df_name = pd.read_csv('data/name.basics.tsv',delimiter='\\t')\n",
    "\n",
    "print(df_name.tail())\n",
    "#Around 9M records are present\n",
    "\n",
    "print(df_name.columns)\n",
    "#There are 6 columns in the file\n",
    "\n",
    "#.info() is showing us the NaN counts, why?\n",
    "print(df_name.info())\n",
    "print(df_name.shape)\n",
    "\n",
    "#counting the null values for each columns\n",
    "print(df_name.isna().sum())"
   ]
  },
  {
   "cell_type": "code",
   "execution_count": 22,
   "metadata": {},
   "outputs": [
    {
     "name": "stdout",
     "output_type": "stream",
     "text": [
      "            nconst        primaryName birthYear deathYear primaryProfession  \\\n",
      "9444329  nm9993710  Nestor Rudnytskyy  \\N        \\N        NaN                \n",
      "9444330  nm9993711  David Gluzman      \\N        \\N        NaN                \n",
      "9444331  nm9993712  Corny O'Connell    \\N        \\N        NaN                \n",
      "9444335  nm9993716  Essias Loberg      \\N        \\N        NaN                \n",
      "9444338  nm9993719  Andre Hill         \\N        \\N        NaN                \n",
      "\n",
      "        knownForTitles  \n",
      "9444329  \\N             \n",
      "9444330  \\N             \n",
      "9444331  \\N             \n",
      "9444335  \\N             \n",
      "9444338  \\N             \n"
     ]
    }
   ],
   "source": [
    "#checking the actual data to see if there are any parsing mistakes\n",
    "print(df_name.loc[df_name.isna()['primaryProfession']==True].tail())"
   ]
  },
  {
   "cell_type": "code",
   "execution_count": 23,
   "metadata": {},
   "outputs": [
    {
     "name": "stdout",
     "output_type": "stream",
     "text": [
      "nconst               0      \n",
      "primaryName          0      \n",
      "birthYear            8960088\n",
      "deathYear            9275749\n",
      "primaryProfession    1779417\n",
      "knownForTitles       1471593\n",
      "dtype: int64\n"
     ]
    }
   ],
   "source": [
    "#looks like parsing is done correctly and there are just two different types of null values for this dataset.\n",
    "#importing again to account for \\N\n",
    "df_name0 = pd.read_csv('data/name.basics.tsv',delimiter='\\t',na_values='\\\\N')\n",
    "\n",
    "#counting the null values for each columns\n",
    "print(df_name0.isna().sum())\n",
    "\n",
    "#delete df_name to free memory\n",
    "del df_name"
   ]
  },
  {
   "cell_type": "markdown",
   "metadata": {},
   "source": [
    "## Data extraction"
   ]
  },
  {
   "cell_type": "markdown",
   "metadata": {},
   "source": [
    "df_b0, df_crew0, df_pr0, df_rate0, df_name0 available but we do not need all columns of these dataframes.\n",
    "So we will strip them down. As well as remove unrelated data.  We are only considering movie related data so film that is not categorizes as movies will be removed."
   ]
  },
  {
   "cell_type": "code",
   "execution_count": 24,
   "metadata": {},
   "outputs": [
    {
     "name": "stdout",
     "output_type": "stream",
     "text": [
      "Index(['tconst', 'titleType', 'primaryTitle', 'originalTitle', 'isAdult',\n",
      "       'startYear', 'endYear', 'runtimeMinutes', 'genres'],\n",
      "      dtype='object')\n",
      "['short' 'movie' 'tvMovie' 'tvSeries' 'tvEpisode' 'tvShort' 'tvMiniSeries'\n",
      " 'tvSpecial' 'video' 'videoGame']\n",
      "There are 523864 movies out of 6M\n"
     ]
    }
   ],
   "source": [
    "#listing all columns for b0 dataframe\n",
    "print(df_b0.columns)\n",
    "\n",
    "#it looks like there are different types of films other than movies or shorts such as tv series.\n",
    "print(df_b0.titleType.unique())\n",
    "\n",
    "#counting for movie type file only\n",
    "print('There are '+ str(df_b0.titleType.loc[df_b0.titleType=='movie'].count())+' movies out of 6M')\n",
    "#there are 523864 movies in 6M records"
   ]
  },
  {
   "cell_type": "code",
   "execution_count": 25,
   "metadata": {},
   "outputs": [
    {
     "data": {
      "text/plain": [
       "Index(['tconst', 'titleType', 'primaryTitle', 'isAdult', 'startYear',\n",
       "       'runtimeMinutes', 'genres'],\n",
       "      dtype='object')"
      ]
     },
     "execution_count": 25,
     "metadata": {},
     "output_type": "execute_result"
    }
   ],
   "source": [
    "#out of these columns, we do not need the 'endYear' and only one of 'primaryTitle' or 'originalTitle'\n",
    "#looking at a random sample of the two titles, original contains the original language and primary has been mostly translated into English\n",
    "df_b0.primaryTitle[100:105]\n",
    "df_b0.originalTitle[100:105]\n",
    "\n",
    "del df_b0['originalTitle']\n",
    "del df_b0['endYear']\n",
    "\n",
    "df_b0.columns"
   ]
  },
  {
   "cell_type": "code",
   "execution_count": 26,
   "metadata": {},
   "outputs": [
    {
     "name": "stdout",
     "output_type": "stream",
     "text": [
      "There are 523864 shorts out of 6M\n",
      "There are 691981 shorts out of 6M\n",
      "There are 4525184 tv related films out of 6M\n",
      "There are 235612 videos out of 6M\n",
      "There are 23682 video games out of 6M\n"
     ]
    }
   ],
   "source": [
    "\n",
    "#counting for movies\n",
    "print('There are '+ str(df_b0.titleType.loc[df_b0.titleType=='movie'].count())+' shorts out of 6M')\n",
    "\n",
    "#counting for shorts\n",
    "print('There are '+ str(df_b0.titleType.loc[df_b0.titleType=='short'].count())+' shorts out of 6M')\n",
    "\n",
    "#counting for tv related films\n",
    "tv_related = df_b0.titleType.loc[df_b0.titleType =='tvMovie'].count() + df_b0.titleType.loc[df_b0.titleType =='tvSeries'].count() + df_b0.titleType.loc[df_b0.titleType =='tvEpisode'].count() + df_b0.titleType.loc[df_b0.titleType =='tvShort'].count() + df_b0.titleType.loc[df_b0.titleType =='tvMiniSeries'].count() + df_b0.titleType.loc[df_b0.titleType =='tvSpecial'].count()\n",
    "print('There are ' + str(tv_related)+' tv related films out of 6M')\n",
    "\n",
    "#counting for video\n",
    "print('There are '+ str(df_b0.titleType.loc[df_b0.titleType=='video'].count())+' videos out of 6M')\n",
    "\n",
    "#counting for videogames\n",
    "print('There are '+ str(df_b0.titleType.loc[df_b0.titleType=='videoGame'].count())+' video games out of 6M')"
   ]
  },
  {
   "cell_type": "code",
   "execution_count": 27,
   "metadata": {},
   "outputs": [
    {
     "name": "stdout",
     "output_type": "stream",
     "text": [
      "(523864, 7)\n"
     ]
    }
   ],
   "source": [
    "#Now we will remove the rows containing any films other than movies\n",
    "\n",
    "df_b0 = df_b0[df_b0['titleType']=='movie']\n",
    "\n",
    "print(df_b0.shape)"
   ]
  },
  {
   "cell_type": "markdown",
   "metadata": {},
   "source": [
    "Now df_b0 only contains records related to movies.  We can use the tconst identifier to remove unneccesary rows in other dataframes."
   ]
  },
  {
   "cell_type": "code",
   "execution_count": 28,
   "metadata": {},
   "outputs": [
    {
     "name": "stdout",
     "output_type": "stream",
     "text": [
      "Index(['tconst', 'directors', 'writers'], dtype='object')\n",
      "(6000323, 3)\n",
      "(523864, 3)\n"
     ]
    }
   ],
   "source": [
    "#next, we look at df_crew0\n",
    "print(df_crew0.columns)\n",
    "\n",
    "#we need all columns in this dataframe so we'll simply use the tconst from df_b0 to remove all other tconst rows from df_crew0\n",
    "\n",
    "#create a list of tconst that we want to extract\n",
    "tconst = list(df_b0.tconst)\n",
    "\n",
    "print(df_crew0.shape)\n",
    "df_crew0=df_crew0[df_crew0['tconst'].isin(tconst)]\n",
    "\n",
    "print(df_crew0.shape)"
   ]
  },
  {
   "cell_type": "markdown",
   "metadata": {},
   "source": [
    "Now we've extracted the movie data out of df_crew0. It also contains the same number of rows as df_b0"
   ]
  },
  {
   "cell_type": "code",
   "execution_count": 29,
   "metadata": {},
   "outputs": [
    {
     "name": "stdout",
     "output_type": "stream",
     "text": [
      "Index(['tconst', 'ordering', 'nconst', 'category', 'job', 'characters'], dtype='object')\n",
      "(34602931, 6)\n",
      "(3724753, 6)\n",
      "511843\n"
     ]
    }
   ],
   "source": [
    "#next we look at df_pr0\n",
    "print(df_pr0.columns)\n",
    "\n",
    "#we will keep all columns here as well for now as they may become useful\n",
    "\n",
    "#removing all rows not related to movies\n",
    "print(df_pr0.shape)\n",
    "df_pr0=df_pr0[df_pr0['tconst'].isin(tconst)]\n",
    "\n",
    "print(df_pr0.shape)\n",
    "\n",
    "print(len(df_pr0.tconst.unique()))"
   ]
  },
  {
   "cell_type": "markdown",
   "metadata": {},
   "source": [
    "Now df_pr0 contains only tconst related to movie.  This dataframe may contains multiple rows for a single tconst hence the difference in the shape of the dataframe compared to other ones."
   ]
  },
  {
   "cell_type": "code",
   "execution_count": 30,
   "metadata": {},
   "outputs": [
    {
     "name": "stdout",
     "output_type": "stream",
     "text": [
      "Index(['tconst', 'averageRating', 'numVotes'], dtype='object')\n",
      "(952239, 3)\n",
      "(236124, 3)\n"
     ]
    }
   ],
   "source": [
    "#next we look at df_rate0.  We also want to keep all columns here.\n",
    "print(df_rate0.columns)\n",
    "\n",
    "#removing all rows not related to movies\n",
    "print(df_rate0.shape)\n",
    "df_rate0=df_rate0[df_rate0['tconst'].isin(tconst)]\n",
    "\n",
    "print(df_rate0.shape)"
   ]
  },
  {
   "cell_type": "code",
   "execution_count": 31,
   "metadata": {},
   "outputs": [
    {
     "name": "stdout",
     "output_type": "stream",
     "text": [
      "Index(['nconst', 'primaryName', 'birthYear', 'deathYear', 'primaryProfession',\n",
      "       'knownForTitles'],\n",
      "      dtype='object')\n",
      "(9444339, 3)\n",
      "Index(['nconst', 'primaryName', 'primaryProfession'], dtype='object')\n"
     ]
    }
   ],
   "source": [
    "#df_name0 has information about the crew rather than the movie so this dataframe does not contain tconst.\n",
    "#however, there are unneeded columns that we can get rid of.\n",
    "\n",
    "print(df_name0.columns)\n",
    "df_name0[1:100]\n",
    "\n",
    "#we will remove birthYear, deathYear, and knownForTitles columns\n",
    "\n",
    "del df_name0['birthYear']\n",
    "del df_name0['deathYear']\n",
    "del df_name0['knownForTitles']\n",
    "\n",
    "print(df_name0.shape)\n",
    "print(df_name0.columns)"
   ]
  },
  {
   "cell_type": "markdown",
   "metadata": {},
   "source": [
    "Now that all dataframe contain the rows and columns that are needed, it is time to deal with null values."
   ]
  },
  {
   "cell_type": "code",
   "execution_count": 32,
   "metadata": {
    "scrolled": true
   },
   "outputs": [
    {
     "name": "stdout",
     "output_type": "stream",
     "text": [
      "(523864, 7)\n",
      "tconst            0     \n",
      "titleType         0     \n",
      "primaryTitle      0     \n",
      "isAdult           0     \n",
      "startYear         60126 \n",
      "runtimeMinutes    194649\n",
      "genres            71824 \n",
      "dtype: int64\n",
      "(523864, 3)\n",
      "tconst       0     \n",
      "directors    48751 \n",
      "writers      133274\n",
      "dtype: int64\n",
      "(3724753, 6)\n",
      "tconst        0      \n",
      "ordering      0      \n",
      "nconst        0      \n",
      "category      0      \n",
      "job           3097386\n",
      "characters    2461715\n",
      "dtype: int64\n",
      "(236124, 3)\n",
      "tconst           0\n",
      "averageRating    0\n",
      "numVotes         0\n",
      "dtype: int64\n",
      "(9444339, 3)\n",
      "nconst               0      \n",
      "primaryName          0      \n",
      "primaryProfession    1779417\n",
      "dtype: int64\n"
     ]
    }
   ],
   "source": [
    "#counting the null values for each columns\n",
    "print(df_b0.shape)\n",
    "print(df_b0.isna().sum())\n",
    "\n",
    "print(df_crew0.shape)\n",
    "print(df_crew0.isna().sum())\n",
    "\n",
    "print(df_pr0.shape)\n",
    "print(df_pr0.isna().sum())\n",
    "\n",
    "print(df_rate0.shape)\n",
    "print(df_rate0.isna().sum())\n",
    "\n",
    "print(df_name0.shape)\n",
    "print(df_name0.isna().sum())"
   ]
  },
  {
   "cell_type": "markdown",
   "metadata": {},
   "source": [
    " Unfortunately, out of 523864 movie related data, there are only ratings available for 236124 of the movies.  To go forward, we have stripped down the dataframe to only contain data with rating value available for all dataframes.  This is because we cannot fill the null values for ratings.  This is the same for missing directors, writers, cast and crews. "
   ]
  },
  {
   "cell_type": "code",
   "execution_count": 40,
   "metadata": {
    "scrolled": true
   },
   "outputs": [
    {
     "name": "stdout",
     "output_type": "stream",
     "text": [
      "(523864, 7)\n",
      "(523864, 3)\n",
      "(523864, 9)\n",
      "Index(['tconst', 'titleType', 'primaryTitle', 'isAdult', 'startYear',\n",
      "       'runtimeMinutes', 'genres'],\n",
      "      dtype='object')\n",
      "Index(['tconst', 'directors', 'writers'], dtype='object')\n",
      "Index(['tconst', 'titleType', 'primaryTitle', 'isAdult', 'startYear',\n",
      "       'runtimeMinutes', 'genres', 'directors', 'writers'],\n",
      "      dtype='object')\n",
      "(3724753, 6)\n",
      "Index(['tconst', 'ordering', 'nconst', 'category', 'job', 'characters'], dtype='object')\n",
      "(236124, 3)\n"
     ]
    }
   ],
   "source": [
    "#merging the dataframe to master\n",
    "\n",
    "#we will create a single dataframe that contains all information for df_b0, df_crew0.\n",
    "#df_name0 will not be included in the master dataframe as this doest not contain the tconst column.\n",
    "#df_rate0 can be included with in this master dataframe but this will create null values where we will need to remove some needed records.\n",
    "#so we will keep df_rate0 separate for now until merging is neccessary.\n",
    "\n",
    "#df_pr0 contains more than one records per tconst. Meaning this will create duplicate tconst entries that we can fill the values for,\n",
    "#but this will also make the initial EDA difficult. So we will keep this separate for now as well.\n",
    "\n",
    "df_master= pd.merge(df_b0,df_crew0,on='tconst')\n",
    "df_master\n",
    "print(df_b0.shape)\n",
    "print(df_crew0.shape)\n",
    "print(df_master.shape)\n",
    "\n",
    "print(df_b0.columns)\n",
    "print(df_crew0.columns)\n",
    "print(df_master.columns)\n",
    "\n",
    "print(df_pr0.shape)\n",
    "print(df_pr0.columns)\n",
    "print(df_rate0.shape)"
   ]
  },
  {
   "cell_type": "code",
   "execution_count": 42,
   "metadata": {},
   "outputs": [],
   "source": [
    "#Let's save the dataframes to csv to be used in Data Storytelling\n",
    "\n",
    "df_master.to_csv(r'/Users/byungchankim/Downloads/Springboard/capstone1/data/df_master.csv')\n",
    "df_pr0.to_csv(r'/Users/byungchankim/Downloads/Springboard/capstone1/data/df_pr0.csv')\n",
    "df_rate0.to_csv(r'/Users/byungchankim/Downloads/Springboard/capstone1/data/df_rate0.csv')\n",
    "df_name0.to_csv(r'/Users/byungchankim/Downloads/Springboard/capstone1/data/df_name0.csv')"
   ]
  },
  {
   "cell_type": "code",
   "execution_count": null,
   "metadata": {},
   "outputs": [],
   "source": []
  }
 ],
 "metadata": {
  "kernelspec": {
   "display_name": "Python 3",
   "language": "python",
   "name": "python3"
  },
  "language_info": {
   "codemirror_mode": {
    "name": "ipython",
    "version": 3
   },
   "file_extension": ".py",
   "mimetype": "text/x-python",
   "name": "python",
   "nbconvert_exporter": "python",
   "pygments_lexer": "ipython3",
   "version": "3.7.1"
  }
 },
 "nbformat": 4,
 "nbformat_minor": 2
}
